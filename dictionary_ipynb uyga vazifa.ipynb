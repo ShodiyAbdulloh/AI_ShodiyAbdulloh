{
 "cells": [
  {
   "cell_type": "markdown",
   "metadata": {},
   "source": [
    "# Dictionary yaratish"
   ]
  },
  {
   "cell_type": "code",
   "execution_count": 1,
   "metadata": {},
   "outputs": [
    {
     "data": {
      "text/plain": [
       "{'ismi': 'ShodiyAbdulloh',\n",
       " 'kasbi': 'Oquvchi',\n",
       " 'yashash joyi': 'Namangan',\n",
       " 'millati': 'Ozbek'}"
      ]
     },
     "execution_count": 1,
     "metadata": {},
     "output_type": "execute_result"
    }
   ],
   "source": [
    "my_dic={'ismi':'ShodiyAbdulloh',\n",
    "        'kasbi':'Oquvchi',\n",
    "        'yashash joyi':'Namangan',\n",
    "        'millati':'Ozbek'\n",
    "        }\n",
    "my_dic"
   ]
  },
  {
   "cell_type": "code",
   "execution_count": 2,
   "metadata": {},
   "outputs": [
    {
     "data": {
      "text/plain": [
       "dict_keys(['ismi', 'kasbi', 'yashash joyi', 'millati'])"
      ]
     },
     "execution_count": 2,
     "metadata": {},
     "output_type": "execute_result"
    }
   ],
   "source": [
    "#Kalitni ozini qanday koramiz?\n",
    "my_dic.keys()"
   ]
  },
  {
   "cell_type": "code",
   "execution_count": 3,
   "metadata": {},
   "outputs": [
    {
     "data": {
      "text/plain": [
       "dict_values(['ShodiyAbdulloh', 'Oquvchi', 'Namangan', 'Ozbek'])"
      ]
     },
     "execution_count": 3,
     "metadata": {},
     "output_type": "execute_result"
    }
   ],
   "source": [
    "#Value qanday koramiz\n",
    "my_dic.values()"
   ]
  },
  {
   "cell_type": "code",
   "execution_count": 4,
   "metadata": {},
   "outputs": [
    {
     "data": {
      "text/plain": [
       "{'ismi': 'ShodiyAbdulloh',\n",
       " 'kasbi': 'Oquvchi',\n",
       " 'yashash joyi': 'Namangan',\n",
       " 'millati': 'Ozbek',\n",
       " 'malumoti': 'Oliy'}"
      ]
     },
     "execution_count": 4,
     "metadata": {},
     "output_type": "execute_result"
    }
   ],
   "source": [
    "#Element qo'shish qanday qoshamiz\n",
    "my_dic['malumoti']='Oliy'\n",
    "my_dic"
   ]
  },
  {
   "cell_type": "code",
   "execution_count": 5,
   "metadata": {},
   "outputs": [
    {
     "data": {
      "text/plain": [
       "{'ismi': 'ShodiyAbdulloh',\n",
       " 'yashash joyi': 'Namangan',\n",
       " 'millati': 'Ozbek',\n",
       " 'malumoti': 'Oliy'}"
      ]
     },
     "execution_count": 5,
     "metadata": {},
     "output_type": "execute_result"
    }
   ],
   "source": [
    "#ochirish usuli\n",
    "del my_dic['kasbi']\n",
    "my_dic"
   ]
  },
  {
   "cell_type": "code",
   "execution_count": 6,
   "metadata": {},
   "outputs": [
    {
     "data": {
      "text/plain": [
       "'Ozbek'"
      ]
     },
     "execution_count": 6,
     "metadata": {},
     "output_type": "execute_result"
    }
   ],
   "source": [
    "#Qiymatga murojat qilish\n",
    "my_dic['millati']"
   ]
  },
  {
   "cell_type": "code",
   "execution_count": 7,
   "metadata": {},
   "outputs": [
    {
     "name": "stdout",
     "output_type": "stream",
     "text": [
      "ismi\n",
      "yashash joyi\n",
      "millati\n",
      "malumoti\n"
     ]
    }
   ],
   "source": [
    "#For + dictionary \n",
    "for key in my_dic:\n",
    "    print(key)"
   ]
  },
  {
   "cell_type": "code",
   "execution_count": 9,
   "metadata": {},
   "outputs": [
    {
     "data": {
      "text/plain": [
       "True"
      ]
     },
     "execution_count": 9,
     "metadata": {},
     "output_type": "execute_result"
    }
   ],
   "source": [
    "'ismi' in my_dic"
   ]
  },
  {
   "cell_type": "code",
   "execution_count": 11,
   "metadata": {},
   "outputs": [
    {
     "name": "stdout",
     "output_type": "stream",
     "text": [
      "Oliy- Namangan\n"
     ]
    }
   ],
   "source": [
    "#if+dict\n",
    "if 'malumoti' in my_dic and 'yashash joyi' in my_dic:\n",
    "    result=my_dic['malumoti']+ '- ' + my_dic['yashash joyi']\n",
    "print(result)"
   ]
  },
  {
   "cell_type": "code",
   "execution_count": 12,
   "metadata": {},
   "outputs": [
    {
     "data": {
      "text/plain": [
       "4"
      ]
     },
     "execution_count": 12,
     "metadata": {},
     "output_type": "execute_result"
    }
   ],
   "source": [
    "len(my_dic)"
   ]
  },
  {
   "cell_type": "code",
   "execution_count": 13,
   "metadata": {},
   "outputs": [
    {
     "data": {
      "text/plain": [
       "{}"
      ]
     },
     "execution_count": 13,
     "metadata": {},
     "output_type": "execute_result"
    }
   ],
   "source": [
    "#dictionaryni ni tozalash\n",
    "my_dic.clear()\n",
    "my_dic"
   ]
  },
  {
   "cell_type": "markdown",
   "metadata": {},
   "source": [
    "# F-string(chiroyliroq print qilish uchun ishlatamiz)"
   ]
  },
  {
   "cell_type": "code",
   "execution_count": 15,
   "metadata": {},
   "outputs": [
    {
     "name": "stdout",
     "output_type": "stream",
     "text": [
      "ikki sonning yigindisi: 100\n"
     ]
    }
   ],
   "source": [
    "a=90\n",
    "b=10\n",
    "print('ikki sonning yigindisi:',a+b)"
   ]
  },
  {
   "cell_type": "code",
   "execution_count": 17,
   "metadata": {},
   "outputs": [
    {
     "name": "stdout",
     "output_type": "stream",
     "text": [
      "ikki sonning yig'indisi: 100 ga teng\n"
     ]
    }
   ],
   "source": [
    "print(f\"ikki sonning yig'indisi: {a+b} ga teng\")"
   ]
  },
  {
   "cell_type": "markdown",
   "metadata": {},
   "source": [
    "# Oldingi mavzularda berilgan list va set ga oid misollarni f-stringdan foydalangan xolda print qiling "
   ]
  },
  {
   "cell_type": "code",
   "execution_count": 47,
   "metadata": {},
   "outputs": [],
   "source": [
    "# List yaratamiz\n",
    "sinfdoshlar = [\"Shavkat\", \"Eldor\", \"Javlon\", \"Aziz\"]\n"
   ]
  },
  {
   "cell_type": "code",
   "execution_count": 48,
   "metadata": {},
   "outputs": [
    {
     "name": "stdout",
     "output_type": "stream",
     "text": [
      "['Shavkat', 'Eldor', 'Javlon', 'Aziz']\n"
     ]
    }
   ],
   "source": [
    "print(sinfdoshlar)"
   ]
  },
  {
   "cell_type": "code",
   "execution_count": 49,
   "metadata": {},
   "outputs": [
    {
     "name": "stdout",
     "output_type": "stream",
     "text": [
      "Sinfdoshlar ismi: Shavkat\n",
      "Sinfdoshlar ismi: Eldor\n",
      "Sinfdoshlar ismi: Javlon\n",
      "Sinfdoshlar ismi: Aziz\n"
     ]
    }
   ],
   "source": [
    "# va f-string yordamida koramiz\n",
    "for sinfdoshlar in sinfdoshlar:\n",
    "    print(f\"Sinfdoshlar ismi: {sinfdoshlar}\")"
   ]
  },
  {
   "cell_type": "code",
   "execution_count": 22,
   "metadata": {},
   "outputs": [],
   "source": [
    "# Set yaratamiz\n",
    "\n",
    "baholar = {1, 2, 3, 4, 5}\n",
    "\n"
   ]
  },
  {
   "cell_type": "code",
   "execution_count": 23,
   "metadata": {},
   "outputs": [
    {
     "name": "stdout",
     "output_type": "stream",
     "text": [
      "{1, 2, 3, 4, 5}\n"
     ]
    }
   ],
   "source": [
    "print(baholar)"
   ]
  },
  {
   "cell_type": "code",
   "execution_count": 24,
   "metadata": {},
   "outputs": [
    {
     "name": "stdout",
     "output_type": "stream",
     "text": [
      "oquvchining bahosi: 1\n",
      "oquvchining bahosi: 2\n",
      "oquvchining bahosi: 3\n",
      "oquvchining bahosi: 4\n",
      "oquvchining bahosi: 5\n"
     ]
    }
   ],
   "source": [
    "# f-string yordamida qilb koramiz\n",
    "for baholar in baholar:\n",
    "    print(f\"oquvchining bahosi: {baholar}\")"
   ]
  },
  {
   "cell_type": "code",
   "execution_count": null,
   "metadata": {},
   "outputs": [
    {
     "name": "stdout",
     "output_type": "stream",
     "text": [
      "Juft raqamlar: 34\n",
      "Juft raqamlar: 68\n",
      "Juft raqamlar: 38\n",
      "Juft raqamlar: 12\n",
      "Juft raqamlar: 18\n"
     ]
    }
   ],
   "source": [
    "# Set yaratamiz\n",
    "raqamlar = {12, 18, 34, 38, 41, 3, 9, 68,71}\n",
    "\n",
    "# Juft raqamlarni f-string bilan koramiz\n",
    "for raqamlar in raqamlar:\n",
    "    if raqamlar % 2 == 0:  \n",
    "        print(f\"Juft raqamlar: {raqamlar}\")\n"
   ]
  },
  {
   "cell_type": "markdown",
   "metadata": {},
   "source": [
    "# if and for loopga ko'rilgan misollarni xam f-stringdan foydalanib print qiling\n"
   ]
  },
  {
   "cell_type": "code",
   "execution_count": 57,
   "metadata": {},
   "outputs": [
    {
     "name": "stdout",
     "output_type": "stream",
     "text": [
      "10 juft son.\n",
      "25 toq son.\n",
      "36 juft son.\n",
      "80 juft son.\n",
      "28 juft son.\n",
      "48 juft son.\n",
      "65 toq son.\n"
     ]
    }
   ],
   "source": [
    "sonlar = [10, 25, 36, 80, 28, 48,65]\n",
    "\n",
    "for sonlar in sonlar:\n",
    "    if sonlar % 2 == 0:\n",
    "        print(f\"{sonlar} juft son.\")\n",
    "    else:\n",
    "        print(f\"{sonlar} toq son.\")\n"
   ]
  },
  {
   "cell_type": "code",
   "execution_count": 71,
   "metadata": {},
   "outputs": [
    {
     "name": "stdout",
     "output_type": "stream",
     "text": [
      "0 nol.\n",
      "33 musbat son.\n",
      "77 musbat son.\n",
      "-44 manfiy son.\n",
      "22 musbat son.\n",
      "55 musbat son.\n",
      "88 musbat son.\n",
      "-99 manfiy son.\n",
      "-66 manfiy son.\n"
     ]
    }
   ],
   "source": [
    "sonlarimiz={0, 22, 33, -44, 55, -66, 77, 88, -99}\n",
    "\n",
    "\n",
    "for sonlarimiz in sonlarimiz:\n",
    "    if sonlarimiz > 0:\n",
    "        print(f\"{sonlarimiz} musbat son.\")\n",
    "    elif sonlarimiz < 0:\n",
    "        print(f\"{sonlarimiz} manfiy son.\")\n",
    "    else:\n",
    "        print(f\"{sonlarimiz} nol.\")\n",
    "\n",
    "\n",
    "\n"
   ]
  },
  {
   "cell_type": "markdown",
   "metadata": {},
   "source": [
    "# Pythonda itenary opratorlardagi misollarni xam  + f-stringdan foydalanib print qiling \n"
   ]
  },
  {
   "cell_type": "code",
   "execution_count": 81,
   "metadata": {},
   "outputs": [
    {
     "name": "stdout",
     "output_type": "stream",
     "text": [
      "0 nol.\n",
      "33 musbat son.\n",
      "77 musbat son.\n",
      "-44 manfiy son.\n",
      "22 musbat son.\n",
      "55 musbat son.\n",
      "88 musbat son.\n",
      "-99 manfiy son.\n",
      "-66 manfiy son.\n"
     ]
    }
   ],
   "source": [
    "sonlarimiz={0, 22, 33, -44, 55, -66, 77, 88, -99}\n",
    "\n",
    "for sonlarimiz in sonlarimiz:\n",
    "    natija = f\"{sonlarimiz} musbat son.\" if sonlarimiz> 0 else f\"{sonlarimiz} nol.\" if sonlarimiz == 0 else f\"{sonlarimiz} manfiy son.\"\n",
    "    print(natija)\n"
   ]
  },
  {
   "cell_type": "markdown",
   "metadata": {},
   "source": [
    "# O'zingiz xaqingizda (kamida 7 ta key va 7 ta valuega ega bo'lsin) dictionary tuzing va darsimizda o'tilgan barcha amallarni qo'llang(javoblarni f-stringda chiqaring)\n"
   ]
  },
  {
   "cell_type": "code",
   "execution_count": 85,
   "metadata": {},
   "outputs": [],
   "source": [
    "\n",
    "autobiografiya = {\n",
    "    \"ismim\": \"ShodiyAbdulloh\",\n",
    "    \"yoshim\": \"1869\",\n",
    "    \"hobbyim\": \"reading\",\n",
    "    \"yashash joyim\": \"Janubiy Korea\",\n",
    "    \"Tugilgan joyim\": \"Ozbekistan\",\n",
    "    \"kasbim\": \"student\",\n",
    "    \"yoqtirgan ovqatim\": \"Ozbek oshi\",\n",
    "    \"yoqtirgan faslim\": \"yoz\",\n",
    "    \"hayotdagi maqsadim\": \"yaxshi inson bolish\"\n",
    "    }\n"
   ]
  },
  {
   "cell_type": "code",
   "execution_count": 86,
   "metadata": {},
   "outputs": [
    {
     "name": "stdout",
     "output_type": "stream",
     "text": [
      "{'ismim': 'ShodiyAbdulloh', 'yoshim': '1869', 'hobbyim': 'reading', 'yashash joyim': 'Janubiy Korea', 'Tugilgan joyim': 'Ozbekistan', 'kasbim': 'student', 'yoqtirgan ovqatim': 'Ozbek oshi', 'yoqtirgan faslim': 'yoz', 'hayotdagi maqsadim': 'yaxshi inson bolish'}\n"
     ]
    }
   ],
   "source": [
    "print(autobiografiya)"
   ]
  },
  {
   "cell_type": "code",
   "execution_count": 90,
   "metadata": {},
   "outputs": [
    {
     "data": {
      "text/plain": [
       "dict_keys(['ismim', 'yoshim', 'hobbyim', 'yashash joyim', 'Tugilgan joyim', 'kasbim', 'yoqtirgan ovqatim', 'yoqtirgan faslim', 'hayotdagi maqsadim'])"
      ]
     },
     "execution_count": 90,
     "metadata": {},
     "output_type": "execute_result"
    }
   ],
   "source": [
    "autobiografiya.keys()"
   ]
  },
  {
   "cell_type": "code",
   "execution_count": 91,
   "metadata": {},
   "outputs": [
    {
     "data": {
      "text/plain": [
       "dict_values(['ShodiyAbdulloh', '1869', 'reading', 'Janubiy Korea', 'Ozbekistan', 'student', 'Ozbek oshi', 'yoz', 'yaxshi inson bolish'])"
      ]
     },
     "execution_count": 91,
     "metadata": {},
     "output_type": "execute_result"
    }
   ],
   "source": [
    "autobiografiya.values()"
   ]
  },
  {
   "cell_type": "code",
   "execution_count": 92,
   "metadata": {},
   "outputs": [
    {
     "data": {
      "text/plain": [
       "{'ismim': 'ShodiyAbdulloh',\n",
       " 'yoshim': '1869',\n",
       " 'hobbyim': 'reading',\n",
       " 'yashash joyim': 'Janubiy Korea',\n",
       " 'Tugilgan joyim': 'Ozbekistan',\n",
       " 'kasbim': 'student',\n",
       " 'yoqtirgan ovqatim': 'Ozbek oshi',\n",
       " 'yoqtirgan faslim': 'yoz',\n",
       " 'hayotdagi maqsadim': 'yaxshi inson bolish',\n",
       " 'millatim': 'Ozbek'}"
      ]
     },
     "execution_count": 92,
     "metadata": {},
     "output_type": "execute_result"
    }
   ],
   "source": [
    "autobiografiya['millatim']='Ozbek'\n",
    "autobiografiya"
   ]
  },
  {
   "cell_type": "code",
   "execution_count": 94,
   "metadata": {},
   "outputs": [
    {
     "data": {
      "text/plain": [
       "{'ismim': 'ShodiyAbdulloh',\n",
       " 'hobbyim': 'reading',\n",
       " 'yashash joyim': 'Janubiy Korea',\n",
       " 'Tugilgan joyim': 'Ozbekistan',\n",
       " 'kasbim': 'student',\n",
       " 'yoqtirgan ovqatim': 'Ozbek oshi',\n",
       " 'yoqtirgan faslim': 'yoz',\n",
       " 'hayotdagi maqsadim': 'yaxshi inson bolish',\n",
       " 'millatim': 'Ozbek'}"
      ]
     },
     "execution_count": 94,
     "metadata": {},
     "output_type": "execute_result"
    }
   ],
   "source": [
    "del autobiografiya[\"yoshim\"]\n",
    "autobiografiya"
   ]
  },
  {
   "cell_type": "code",
   "execution_count": 96,
   "metadata": {},
   "outputs": [
    {
     "data": {
      "text/plain": [
       "'Ozbek'"
      ]
     },
     "execution_count": 96,
     "metadata": {},
     "output_type": "execute_result"
    }
   ],
   "source": [
    "autobiografiya['millatim']"
   ]
  },
  {
   "cell_type": "code",
   "execution_count": 97,
   "metadata": {},
   "outputs": [
    {
     "name": "stdout",
     "output_type": "stream",
     "text": [
      "ismim\n",
      "hobbyim\n",
      "yashash joyim\n",
      "Tugilgan joyim\n",
      "kasbim\n",
      "yoqtirgan ovqatim\n",
      "yoqtirgan faslim\n",
      "hayotdagi maqsadim\n",
      "millatim\n"
     ]
    }
   ],
   "source": [
    "for key in autobiografiya:\n",
    "    print(key)"
   ]
  },
  {
   "cell_type": "code",
   "execution_count": 101,
   "metadata": {},
   "outputs": [
    {
     "name": "stdout",
     "output_type": "stream",
     "text": [
      "student- yaxshi inson bolish\n"
     ]
    }
   ],
   "source": [
    "if 'kasbim' in autobiografiya and 'hayotdagi maqsadim' in autobiografiya:\n",
    "    natija=autobiografiya['kasbim']+ '- ' + autobiografiya['hayotdagi maqsadim']\n",
    "print(natija)"
   ]
  }
 ],
 "metadata": {
  "kernelspec": {
   "display_name": "Python 3",
   "language": "python",
   "name": "python3"
  },
  "language_info": {
   "codemirror_mode": {
    "name": "ipython",
    "version": 3
   },
   "file_extension": ".py",
   "mimetype": "text/x-python",
   "name": "python",
   "nbconvert_exporter": "python",
   "pygments_lexer": "ipython3",
   "version": "3.13.0"
  }
 },
 "nbformat": 4,
 "nbformat_minor": 2
}
