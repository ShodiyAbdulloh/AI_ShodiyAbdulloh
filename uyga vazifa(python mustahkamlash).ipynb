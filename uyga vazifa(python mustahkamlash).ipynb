{
 "cells": [
  {
   "cell_type": "code",
   "execution_count": null,
   "metadata": {},
   "outputs": [],
   "source": [
    "#Berilgan 2 ta sonni o'rta arifmetigini toping \n",
    "#Berilgan 2 ta sonni o'rta geometrigini toping\n",
    "#Berilgan so'zni istalgan(so'z uzunligidan katta bo'lmagan) indexidagi so'zni ekranga chiqaring \n",
    "# Berilgan listga 3 ta so'z kiriting va u so'zni listda mavjud bo'lish yoki bo'lmasligini tekshiring\n",
    "#Ikki float son kiriting va ular orasida  4 matematik amal bajaring(*, /, //, % )\n",
    "#Foydalanuvchidan son kiritishni so'rang va u musbat, manfiy yoki 0 ekanligini aniqlang.\n",
    "#Foydalanuvchidan yoshini so'rang. Agar yosh 18 yoki undan katta bo'lsa, \"Siz voyaga yetgansiz\", aks holda \"Siz hali voyaga yetmagansiz\" deb chiqaring.\n",
    "#Foydalanuvchidan uchta son kiriting va eng kattasini aniqlang.\n",
    "#1 dan 10 gacha bo'lgan barcha  juft/ toq sonlarni ekranga chiqaring.\n",
    "#Foydalanuvchidan sonlar orasidagi oraliqni kiriting (masalan, 5 va 15), va shu oraliqdagi juft sonlarni ekranga chiqaring va ularni yigindisini toping"
   ]
  },
  {
   "cell_type": "markdown",
   "metadata": {},
   "source": [
    "# Berilgan 2 ta sonni o'rta arifmetigini toping "
   ]
  },
  {
   "cell_type": "code",
   "execution_count": 1,
   "metadata": {},
   "outputs": [
    {
     "name": "stdout",
     "output_type": "stream",
     "text": [
      "Berilgan sonlarning o'rtacha arifmetigi: 85.0\n"
     ]
    }
   ],
   "source": [
    "a = int(input(\"1-sonni kiriting: \"))\n",
    "b = int(input(\"2-sonni kiriting: \"))\n",
    "ortacha_arifmetik = (a + b) / 2\n",
    "print(\"Berilgan sonlarning o'rtacha arifmetigi: {}\".format(ortacha_arifmetik))\n"
   ]
  },
  {
   "cell_type": "markdown",
   "metadata": {},
   "source": [
    "# Berilgan 2 ta sonni o'rta geometrigini toping"
   ]
  },
  {
   "cell_type": "code",
   "execution_count": null,
   "metadata": {},
   "outputs": [
    {
     "name": "stdout",
     "output_type": "stream",
     "text": [
      "Berilgan sonlarning o'rtacha geometrigi: 84.8528137423857\n"
     ]
    }
   ],
   "source": [
    "import math\n",
    "\n",
    "a = float(input(\"1-sonni kiriting: \"))\n",
    "b = float(input(\"2-sonni kiriting: \"))\n",
    "\n",
    "# O'rtacha geometrikni hisoblash\n",
    "ortacha_geometrik = math.sqrt(a * b)\n",
    "\n",
    "#Natijani topish\n",
    "print(\"Berilgan sonlarning o'rtacha geometrigi: {}\".format(ortacha_geometrik))\n"
   ]
  },
  {
   "cell_type": "markdown",
   "metadata": {},
   "source": [
    "# Berilgan so'zni istalgan(so'z uzunligidan katta bo'lmagan) indexidagi so'zni ekranga chiqaring "
   ]
  },
  {
   "cell_type": "code",
   "execution_count": 38,
   "metadata": {},
   "outputs": [
    {
     "name": "stdout",
     "output_type": "stream",
     "text": [
      "3-indeksdagi harf: p\n"
     ]
    }
   ],
   "source": [
    "soz = input(\"So'zni kiriting:\")\n",
    "\n",
    "#indeksni kiritishni so'rash\n",
    "index = int(input(f\"So'z uzunligi {len(soz)} bo'lib, 0 dan {len(soz)-1} gacha bo'lgan indeksni kiriting: \"))\n",
    "\n",
    "# Indeksni tekshirish va ekranga natijani chiqarish\n",
    "if 0 <= index < len(soz):\n",
    "    print(f\"{index}-indeksdagi harf: {soz[index]}\")\n",
    "else:\n",
    "    print(\"Kiritilgan indeks noto'g'ri!\")\n"
   ]
  },
  {
   "cell_type": "markdown",
   "metadata": {},
   "source": [
    "# Berilgan listga 3 ta so'z kiriting va u so'zni listda mavjud bo'lish yoki bo'lmasligini tekshiring"
   ]
  },
  {
   "cell_type": "code",
   "execution_count": null,
   "metadata": {},
   "outputs": [
    {
     "name": "stdout",
     "output_type": "stream",
     "text": [
      "\n",
      "Kiritilgan so'zlar: ['men', 'python', 'organyapman']\n",
      "'python' so'zi listda mavjud.\n"
     ]
    }
   ],
   "source": [
    "sozlar = []\n",
    "\n",
    "# 3 ta so'zni kiritish\n",
    "for i in range(3):\n",
    "    soz = input(f\"{i+1}-so'zni kiriting: \")\n",
    "    sozlar.append(soz)\n",
    "\n",
    "#Kiritilgan so'zlarni ko'rsatish\n",
    "print(\"\\nKiritilgan so'zlar:\", sozlar)\n",
    "\n",
    "#tekshirish uchun so'zni kiritish\n",
    "tekshir_soz = input(\"\\nso'zni tekshirish\")\n",
    "\n",
    "#Mavjud yoki yoq\n",
    "if tekshir_soz in sozlar:\n",
    "    print(f\"'{tekshir_soz}' so'zi listda mavjud.\")\n",
    "else:\n",
    "    print(f\"'{tekshir_soz}' so'zi listda mavjud emas.\")\n"
   ]
  },
  {
   "cell_type": "markdown",
   "metadata": {},
   "source": [
    "# Ikki float son kiriting va ular orasida  4 matematik amal bajaring(*, /, //, % )"
   ]
  },
  {
   "cell_type": "code",
   "execution_count": null,
   "metadata": {},
   "outputs": [
    {
     "name": "stdout",
     "output_type": "stream",
     "text": [
      "\n",
      "Natijalar:\n",
      "28.0 * 90.0 = 2520.0\n",
      "28.0 / 90.0 = 0.3111111111111111\n",
      "28.0 // 90.0 = 0.0\n",
      "28.0 % 90.0 = 28.0\n"
     ]
    }
   ],
   "source": [
    "a = float(input(\"1- son\"))\n",
    "b = float(input(\"2- son\"))\n",
    "\n",
    "# 4 matematik amalni bajarish\n",
    "print(\"\\nNatijalar:\")\n",
    "print(f\"{a} * {b} = {a * b}\") \n",
    "print(f\"{a} / {b} = {a / b}\")  \n",
    "print(f\"{a} // {b} = {a // b}\") \n",
    "print(f\"{a} % {b} = {a % b}\") \n"
   ]
  },
  {
   "cell_type": "markdown",
   "metadata": {},
   "source": [
    "# Foydalanuvchidan son kiritishni so'rang va u musbat, manfiy yoki 0 ekanligini aniqlang."
   ]
  },
  {
   "cell_type": "code",
   "execution_count": 42,
   "metadata": {},
   "outputs": [
    {
     "name": "stdout",
     "output_type": "stream",
     "text": [
      "musbat.\n"
     ]
    }
   ],
   "source": [
    "son = float(input(\"Sonni kiriting:\"))\n",
    "\n",
    "#Sonni tekshirish\n",
    "if son > 0:\n",
    "    print(\"musbat.\")\n",
    "elif son < 0:\n",
    "    print(\"manfiy.\")\n",
    "else:\n",
    "    print(\"nol (0).\")\n"
   ]
  },
  {
   "cell_type": "markdown",
   "metadata": {},
   "source": [
    "# Foydalanuvchidan yoshini so'rang. Agar yosh 18 yoki undan katta bo'lsa, \"Siz voyaga yetgansiz\", aks holda \"Siz hali voyaga yetmagansiz\" deb chiqaring."
   ]
  },
  {
   "cell_type": "code",
   "execution_count": 43,
   "metadata": {},
   "outputs": [
    {
     "name": "stdout",
     "output_type": "stream",
     "text": [
      "Siz voyaga yetgansiz.\n"
     ]
    }
   ],
   "source": [
    "#Foydalanuvchidan yoshini so'rash\n",
    "yosh = int(input(\"Yoshingizni kiriting: \"))\n",
    "\n",
    "if yosh >= 18:\n",
    "    print(\"Siz voyaga yetgansiz.\")\n",
    "else:\n",
    "    print(\"Siz hali voyaga yetmagansiz.\")\n"
   ]
  },
  {
   "cell_type": "markdown",
   "metadata": {},
   "source": [
    "# Foydalanuvchidan uchta son kiriting va eng kattasini aniqlang."
   ]
  },
  {
   "cell_type": "code",
   "execution_count": 44,
   "metadata": {},
   "outputs": [
    {
     "name": "stdout",
     "output_type": "stream",
     "text": [
      "Eng katta son: 89\n"
     ]
    }
   ],
   "source": [
    "son1 = int(input(\"1-son: \"))\n",
    "son2 = int(input(\"2-son: \"))\n",
    "son3 = int(input(\"3-son: \"))\n",
    "\n",
    "eng_katta = max(son1, son2, son3)\n",
    "\n",
    "print(f\"Eng katta son: {eng_katta}\")\n",
    "\n"
   ]
  },
  {
   "cell_type": "markdown",
   "metadata": {},
   "source": [
    "# 1 dan 10 gacha bo'lgan barcha  juft/ toq sonlarni ekranga chiqaring."
   ]
  },
  {
   "cell_type": "code",
   "execution_count": 48,
   "metadata": {},
   "outputs": [
    {
     "name": "stdout",
     "output_type": "stream",
     "text": [
      "1 dan 10 gacha bo'lgan juft sonlar:\n",
      "2\n",
      "4\n",
      "6\n",
      "8\n",
      "10\n",
      "1 dan 10 gacha bo'lgan toq sonlar:\n",
      "1\n",
      "3\n",
      "5\n",
      "7\n",
      "9\n"
     ]
    }
   ],
   "source": [
    "print(\"1 dan 10 gacha bo'lgan juft sonlar:\")\n",
    "for juft in range(1, 11):  \n",
    "    if juft % 2 == 0:\n",
    "        print(juft)\n",
    "\n",
    "print(\"1 dan 10 gacha bo'lgan toq sonlar:\")\n",
    "for toq in range(1, 11):  \n",
    "    if toq % 2 != 0:\n",
    "        print(toq)"
   ]
  },
  {
   "cell_type": "markdown",
   "metadata": {},
   "source": [
    "# Foydalanuvchidan sonlar orasidagi oraliqni kiriting (masalan, 5 va 15), va shu oraliqdagi juft sonlarni ekranga chiqaring va ularni yigindisini toping"
   ]
  },
  {
   "cell_type": "code",
   "execution_count": 51,
   "metadata": {},
   "outputs": [
    {
     "name": "stdout",
     "output_type": "stream",
     "text": [
      "\n",
      "Juft sonlar:\n",
      "6\n",
      "8\n",
      "10\n",
      "12\n",
      "14\n",
      "\n",
      "Juft sonlar yig'indisi: 50\n"
     ]
    }
   ],
   "source": [
    "son1 = int(input(\"Birinchi sonni kiriting: \"))\n",
    "son2 = int(input(\"Ikkinchi sonni kiriting: \"))\n",
    "\n",
    "# Juft sonlarni ekranga chiqarish va yig'indisini hisoblash\n",
    "juft_sonlar = []\n",
    "for i in range(son1, son2 + 1):\n",
    "    if i % 2 == 0:\n",
    "        juft_sonlar.append(i)\n",
    "\n",
    "print(\"\\nJuft sonlar:\")\n",
    "for juft_son in juft_sonlar:\n",
    "    print(juft_son)\n",
    "\n",
    "total = sum(juft_sonlar)\n",
    "print(f\"\\nJuft sonlar yig'indisi: {total}\")\n"
   ]
  }
 ],
 "metadata": {
  "kernelspec": {
   "display_name": "Python 3",
   "language": "python",
   "name": "python3"
  },
  "language_info": {
   "codemirror_mode": {
    "name": "ipython",
    "version": 3
   },
   "file_extension": ".py",
   "mimetype": "text/x-python",
   "name": "python",
   "nbconvert_exporter": "python",
   "pygments_lexer": "ipython3",
   "version": "3.13.0"
  }
 },
 "nbformat": 4,
 "nbformat_minor": 2
}
